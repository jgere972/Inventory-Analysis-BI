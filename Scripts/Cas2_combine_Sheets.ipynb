{
  "nbformat": 4,
  "nbformat_minor": 0,
  "metadata": {
    "colab": {
      "provenance": []
    },
    "kernelspec": {
      "name": "python3",
      "display_name": "Python 3"
    },
    "language_info": {
      "name": "python"
    }
  },
  "cells": [
    {
      "cell_type": "markdown",
      "source": [
        "<h4> Import Library"
      ],
      "metadata": {
        "id": "wLmN2Lpwxmgs"
      }
    },
    {
      "cell_type": "code",
      "source": [
        "import os\n",
        "import shutil\n",
        "import pandas as pd"
      ],
      "metadata": {
        "id": "O_QrLUd8xahz"
      },
      "execution_count": 1,
      "outputs": []
    },
    {
      "cell_type": "markdown",
      "source": [
        "<h3> Read All File Paths"
      ],
      "metadata": {
        "id": "Ru3hcV1YxNm9"
      }
    },
    {
      "cell_type": "code",
      "source": [
        "!mkdir data_collection"
      ],
      "metadata": {
        "colab": {
          "base_uri": "https://localhost:8080/"
        },
        "id": "aJEu1bIWyCyT",
        "outputId": "ef908200-78b0-4c03-cb4a-40ec7da442e9"
      },
      "execution_count": 2,
      "outputs": [
        {
          "output_type": "stream",
          "name": "stdout",
          "text": [
            "mkdir: cannot create directory ‘data_collection’: File exists\n"
          ]
        }
      ]
    },
    {
      "cell_type": "code",
      "execution_count": 4,
      "metadata": {
        "id": "hld4q7M2pz3B"
      },
      "outputs": [],
      "source": [
        "for filename in os.listdir(os.getcwd()):\n",
        "  if filename.endswith(\".csv\"):\n",
        "    shutil.move(filename, \"data_collection\")"
      ]
    },
    {
      "cell_type": "markdown",
      "source": [
        "<h3> Add All Sheets to a Workbook and Output an Excel File"
      ],
      "metadata": {
        "id": "zrAA3yk510iF"
      }
    },
    {
      "cell_type": "code",
      "source": [
        "def process_csv_to_excel(file_path, writer, sheet_name_base):\n",
        "  chunk_size = 1048575 # Maximum rows per Excel sheet\n",
        "  reader = pd.read_csv(file_path, chunksize=chunk_size)\n",
        "  for i, chunk in enumerate(reader):\n",
        "    sheet_name = f\"{sheet_name_base}_part{i+1}\"\n",
        "    chunk.to_excel(writer, sheet_name=sheet_name, index=False)"
      ],
      "metadata": {
        "id": "dhTfBzY92K-D"
      },
      "execution_count": 5,
      "outputs": []
    },
    {
      "cell_type": "code",
      "source": [
        "# Create the excel file\n",
        "writer = pd.ExcelWriter('data_collection.xlsx')\n",
        "\n",
        "files_added = False\n",
        "# Process each csv file\n",
        "for filename in os.listdir('data_collection'):\n",
        "  full_path = os.path.join('data_collection', filename)\n",
        "  if filename.endswith('.csv'):\n",
        "    process_csv_to_excel(full_path, writer, filename.split(\".\")[0])\n",
        "    print(f'{filename} processed')\n",
        "    files_added = True\n",
        "\n",
        "print('All files processed')\n",
        "writer.close()"
      ],
      "metadata": {
        "colab": {
          "base_uri": "https://localhost:8080/"
        },
        "id": "7JKxsB9K7RS0",
        "outputId": "54c55eb8-6af2-40bc-a139-41df004542f3"
      },
      "execution_count": 15,
      "outputs": [
        {
          "output_type": "stream",
          "name": "stdout",
          "text": [
            "critical_vendors.csv processed\n",
            "vendor_store_sales.csv processed\n",
            "recalculated_inv_pricing.csv processed\n",
            "monthly_sales.csv processed\n",
            "high_invoice_count.csv processed\n",
            "vendors_sales_quantities.csv processed\n",
            "quarter_sales.csv processed\n",
            "inv_idle_time.csv processed\n",
            "All files processed\n"
          ]
        }
      ]
    }
  ]
}